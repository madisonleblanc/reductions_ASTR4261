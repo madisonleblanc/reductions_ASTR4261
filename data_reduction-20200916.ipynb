{
 "cells": [
  {
   "cell_type": "code",
   "execution_count": 1,
   "metadata": {},
   "outputs": [],
   "source": [
    "from pathlib import Path\n",
    "import os\n",
    "\n",
    "from astropy.nddata import CCDData\n",
    "from astropy.visualization import hist\n",
    "from astropy.stats import mad_std\n",
    "\n",
    "import ccdproc as ccdp\n",
    "import matplotlib.pyplot as plt\n",
    "import numpy as np\n",
    "import sys\n",
    "from astropy import units as u\n",
    "\n",
    "\n",
    "sys.path.append(\"/home/idies/workspace/Storage/madisonleblanc/persistent/hrpo-pipeline\")\n",
    "import fpnfix\n",
    "from aperturePhot import showimage as show_image"
   ]
  },
  {
   "cell_type": "code",
   "execution_count": 2,
   "metadata": {},
   "outputs": [],
   "source": [
    "path = \"/home/idies/workspace/Storage/madisonleblanc/persistent/reductions_ASTR4261/\"\n",
    "day = \"20200916\"\n",
    "path_day = os.path.join(path, day)\n",
    "\n",
    "data_red = Path(path_day, \"Reduced_Images\")\n",
    "data_red.mkdir(exist_ok = True)"
   ]
  },
  {
   "cell_type": "code",
   "execution_count": 3,
   "metadata": {},
   "outputs": [
    {
     "data": {
      "text/html": [
       "<div><i>Table length=100</i>\n",
       "<table id=\"table139740864824944\" class=\"table-striped table-bordered table-condensed\">\n",
       "<thead><tr><th>file</th><th>imagetyp</th><th>filter</th><th>exptime</th><th>naxis1</th><th>naxis2</th></tr></thead>\n",
       "<thead><tr><th>str18</th><th>str11</th><th>object</th><th>float64</th><th>int64</th><th>int64</th></tr></thead>\n",
       "<tr><td>Bias-0011x1.fit</td><td>Bias Frame</td><td>--</td><td>0.0</td><td>1024</td><td>1024</td></tr>\n",
       "<tr><td>Bias-0012x2.fit</td><td>Bias Frame</td><td>--</td><td>0.0</td><td>512</td><td>512</td></tr>\n",
       "<tr><td>Bias-0021x1.fit</td><td>Bias Frame</td><td>--</td><td>0.0</td><td>1024</td><td>1024</td></tr>\n",
       "<tr><td>Bias-0022x2.fit</td><td>Bias Frame</td><td>--</td><td>0.0</td><td>512</td><td>512</td></tr>\n",
       "<tr><td>Bias-0031x1.fit</td><td>Bias Frame</td><td>--</td><td>0.0</td><td>1024</td><td>1024</td></tr>\n",
       "<tr><td>Bias-0032x2.fit</td><td>Bias Frame</td><td>--</td><td>0.0</td><td>512</td><td>512</td></tr>\n",
       "<tr><td>Bias-0041x1.fit</td><td>Bias Frame</td><td>--</td><td>0.0</td><td>1024</td><td>1024</td></tr>\n",
       "<tr><td>Bias-0042x2.fit</td><td>Bias Frame</td><td>--</td><td>0.0</td><td>512</td><td>512</td></tr>\n",
       "<tr><td>Bias-0051x1.fit</td><td>Bias Frame</td><td>--</td><td>0.0</td><td>1024</td><td>1024</td></tr>\n",
       "<tr><td>Bias-0052x2.fit</td><td>Bias Frame</td><td>--</td><td>0.0</td><td>512</td><td>512</td></tr>\n",
       "<tr><td>...</td><td>...</td><td>...</td><td>...</td><td>...</td><td>...</td></tr>\n",
       "<tr><td>SN2020saf-004V.fit</td><td>Light Frame</td><td>Bessel V</td><td>60.0</td><td>1024</td><td>1024</td></tr>\n",
       "<tr><td>SN2020saf-005B.fit</td><td>Light Frame</td><td>Bessel B</td><td>60.0</td><td>1024</td><td>1024</td></tr>\n",
       "<tr><td>SN2020saf-005R.fit</td><td>Light Frame</td><td>Bessel R</td><td>60.0</td><td>1024</td><td>1024</td></tr>\n",
       "<tr><td>SN2020saf-005V.fit</td><td>Light Frame</td><td>Bessel V</td><td>60.0</td><td>1024</td><td>1024</td></tr>\n",
       "<tr><td>SN2020saf-006B.fit</td><td>Light Frame</td><td>Bessel B</td><td>60.0</td><td>1024</td><td>1024</td></tr>\n",
       "<tr><td>SN2020saf-006R.fit</td><td>Light Frame</td><td>Bessel R</td><td>60.0</td><td>1024</td><td>1024</td></tr>\n",
       "<tr><td>SN2020saf-006V.fit</td><td>Light Frame</td><td>Bessel V</td><td>60.0</td><td>1024</td><td>1024</td></tr>\n",
       "<tr><td>U_Aqr-001B.fit</td><td>Light Frame</td><td>Bessel B</td><td>60.0</td><td>1024</td><td>1024</td></tr>\n",
       "<tr><td>U_Aqr-001R.fit</td><td>Light Frame</td><td>Bessel R</td><td>60.0</td><td>1024</td><td>1024</td></tr>\n",
       "<tr><td>U_Aqr-001V.fit</td><td>Light Frame</td><td>Bessel V</td><td>60.0</td><td>1024</td><td>1024</td></tr>\n",
       "</table></div>"
      ],
      "text/plain": [
       "<Table length=100>\n",
       "       file          imagetyp   filter  exptime naxis1 naxis2\n",
       "      str18           str11     object  float64 int64  int64 \n",
       "------------------ ----------- -------- ------- ------ ------\n",
       "   Bias-0011x1.fit  Bias Frame       --     0.0   1024   1024\n",
       "   Bias-0012x2.fit  Bias Frame       --     0.0    512    512\n",
       "   Bias-0021x1.fit  Bias Frame       --     0.0   1024   1024\n",
       "   Bias-0022x2.fit  Bias Frame       --     0.0    512    512\n",
       "   Bias-0031x1.fit  Bias Frame       --     0.0   1024   1024\n",
       "   Bias-0032x2.fit  Bias Frame       --     0.0    512    512\n",
       "   Bias-0041x1.fit  Bias Frame       --     0.0   1024   1024\n",
       "   Bias-0042x2.fit  Bias Frame       --     0.0    512    512\n",
       "   Bias-0051x1.fit  Bias Frame       --     0.0   1024   1024\n",
       "   Bias-0052x2.fit  Bias Frame       --     0.0    512    512\n",
       "               ...         ...      ...     ...    ...    ...\n",
       "SN2020saf-004V.fit Light Frame Bessel V    60.0   1024   1024\n",
       "SN2020saf-005B.fit Light Frame Bessel B    60.0   1024   1024\n",
       "SN2020saf-005R.fit Light Frame Bessel R    60.0   1024   1024\n",
       "SN2020saf-005V.fit Light Frame Bessel V    60.0   1024   1024\n",
       "SN2020saf-006B.fit Light Frame Bessel B    60.0   1024   1024\n",
       "SN2020saf-006R.fit Light Frame Bessel R    60.0   1024   1024\n",
       "SN2020saf-006V.fit Light Frame Bessel V    60.0   1024   1024\n",
       "    U_Aqr-001B.fit Light Frame Bessel B    60.0   1024   1024\n",
       "    U_Aqr-001R.fit Light Frame Bessel R    60.0   1024   1024\n",
       "    U_Aqr-001V.fit Light Frame Bessel V    60.0   1024   1024"
      ]
     },
     "execution_count": 3,
     "metadata": {},
     "output_type": "execute_result"
    }
   ],
   "source": [
    "files = ccdp.ImageFileCollection(path_day)\n",
    "files.summary['file', 'imagetyp', 'filter', 'exptime', 'naxis1', 'naxis2']"
   ]
  },
  {
   "cell_type": "code",
   "execution_count": 4,
   "metadata": {},
   "outputs": [
    {
     "name": "stderr",
     "output_type": "stream",
     "text": [
      "WARNING: FITSFixedWarning: 'datfix' made the change 'Set MJD-OBS to 59109.053102 from DATE-OBS'. [astropy.wcs.wcs]\n",
      "WARNING:astropy:FITSFixedWarning: 'datfix' made the change 'Set MJD-OBS to 59109.053102 from DATE-OBS'.\n",
      "WARNING: FITSFixedWarning: 'datfix' made the change 'Set MJD-OBS to 59109.053218 from DATE-OBS'. [astropy.wcs.wcs]\n",
      "WARNING:astropy:FITSFixedWarning: 'datfix' made the change 'Set MJD-OBS to 59109.053218 from DATE-OBS'.\n",
      "WARNING: FITSFixedWarning: 'datfix' made the change 'Set MJD-OBS to 59109.053275 from DATE-OBS'. [astropy.wcs.wcs]\n",
      "WARNING:astropy:FITSFixedWarning: 'datfix' made the change 'Set MJD-OBS to 59109.053275 from DATE-OBS'.\n",
      "WARNING: FITSFixedWarning: 'datfix' made the change 'Set MJD-OBS to 59109.053391 from DATE-OBS'. [astropy.wcs.wcs]\n",
      "WARNING:astropy:FITSFixedWarning: 'datfix' made the change 'Set MJD-OBS to 59109.053391 from DATE-OBS'.\n",
      "WARNING: FITSFixedWarning: 'datfix' made the change 'Set MJD-OBS to 59109.053461 from DATE-OBS'. [astropy.wcs.wcs]\n",
      "WARNING:astropy:FITSFixedWarning: 'datfix' made the change 'Set MJD-OBS to 59109.053461 from DATE-OBS'.\n",
      "WARNING: FITSFixedWarning: 'datfix' made the change 'Set MJD-OBS to 59109.053576 from DATE-OBS'. [astropy.wcs.wcs]\n",
      "WARNING:astropy:FITSFixedWarning: 'datfix' made the change 'Set MJD-OBS to 59109.053576 from DATE-OBS'.\n",
      "WARNING: FITSFixedWarning: 'datfix' made the change 'Set MJD-OBS to 59109.053634 from DATE-OBS'. [astropy.wcs.wcs]\n",
      "WARNING:astropy:FITSFixedWarning: 'datfix' made the change 'Set MJD-OBS to 59109.053634 from DATE-OBS'.\n",
      "WARNING: FITSFixedWarning: 'datfix' made the change 'Set MJD-OBS to 59109.053750 from DATE-OBS'. [astropy.wcs.wcs]\n",
      "WARNING:astropy:FITSFixedWarning: 'datfix' made the change 'Set MJD-OBS to 59109.053750 from DATE-OBS'.\n",
      "WARNING: FITSFixedWarning: 'datfix' made the change 'Set MJD-OBS to 59109.053808 from DATE-OBS'. [astropy.wcs.wcs]\n",
      "WARNING:astropy:FITSFixedWarning: 'datfix' made the change 'Set MJD-OBS to 59109.053808 from DATE-OBS'.\n",
      "WARNING: FITSFixedWarning: 'datfix' made the change 'Set MJD-OBS to 59109.053958 from DATE-OBS'. [astropy.wcs.wcs]\n",
      "WARNING:astropy:FITSFixedWarning: 'datfix' made the change 'Set MJD-OBS to 59109.053958 from DATE-OBS'.\n",
      "WARNING: FITSFixedWarning: 'datfix' made the change 'Set MJD-OBS to 59109.054016 from DATE-OBS'. [astropy.wcs.wcs]\n",
      "WARNING:astropy:FITSFixedWarning: 'datfix' made the change 'Set MJD-OBS to 59109.054016 from DATE-OBS'.\n",
      "WARNING: FITSFixedWarning: 'datfix' made the change 'Set MJD-OBS to 59109.054132 from DATE-OBS'. [astropy.wcs.wcs]\n",
      "WARNING:astropy:FITSFixedWarning: 'datfix' made the change 'Set MJD-OBS to 59109.054132 from DATE-OBS'.\n",
      "WARNING: FITSFixedWarning: 'datfix' made the change 'Set MJD-OBS to 59109.054178 from DATE-OBS'. [astropy.wcs.wcs]\n",
      "WARNING:astropy:FITSFixedWarning: 'datfix' made the change 'Set MJD-OBS to 59109.054178 from DATE-OBS'.\n",
      "WARNING: FITSFixedWarning: 'datfix' made the change 'Set MJD-OBS to 59109.054294 from DATE-OBS'. [astropy.wcs.wcs]\n",
      "WARNING:astropy:FITSFixedWarning: 'datfix' made the change 'Set MJD-OBS to 59109.054294 from DATE-OBS'.\n",
      "WARNING: FITSFixedWarning: 'datfix' made the change 'Set MJD-OBS to 59109.054352 from DATE-OBS'. [astropy.wcs.wcs]\n",
      "WARNING:astropy:FITSFixedWarning: 'datfix' made the change 'Set MJD-OBS to 59109.054352 from DATE-OBS'.\n",
      "WARNING: FITSFixedWarning: 'datfix' made the change 'Set MJD-OBS to 59109.054468 from DATE-OBS'. [astropy.wcs.wcs]\n",
      "WARNING:astropy:FITSFixedWarning: 'datfix' made the change 'Set MJD-OBS to 59109.054468 from DATE-OBS'.\n",
      "WARNING: FITSFixedWarning: 'datfix' made the change 'Set MJD-OBS to 59109.054537 from DATE-OBS'. [astropy.wcs.wcs]\n",
      "WARNING:astropy:FITSFixedWarning: 'datfix' made the change 'Set MJD-OBS to 59109.054537 from DATE-OBS'.\n",
      "WARNING: FITSFixedWarning: 'datfix' made the change 'Set MJD-OBS to 59109.054653 from DATE-OBS'. [astropy.wcs.wcs]\n",
      "WARNING:astropy:FITSFixedWarning: 'datfix' made the change 'Set MJD-OBS to 59109.054653 from DATE-OBS'.\n",
      "WARNING: FITSFixedWarning: 'datfix' made the change 'Set MJD-OBS to 59109.054699 from DATE-OBS'. [astropy.wcs.wcs]\n",
      "WARNING:astropy:FITSFixedWarning: 'datfix' made the change 'Set MJD-OBS to 59109.054699 from DATE-OBS'.\n",
      "WARNING: FITSFixedWarning: 'datfix' made the change 'Set MJD-OBS to 59109.054826 from DATE-OBS'. [astropy.wcs.wcs]\n",
      "WARNING:astropy:FITSFixedWarning: 'datfix' made the change 'Set MJD-OBS to 59109.054826 from DATE-OBS'.\n"
     ]
    },
    {
     "ename": "TypeError",
     "evalue": "CCDData objects are not the same size.",
     "output_type": "error",
     "traceback": [
      "\u001b[0;31m\u001b[0m",
      "\u001b[0;31mTypeError\u001b[0mTraceback (most recent call last)",
      "\u001b[0;32m<ipython-input-4-98db96f308ea>\u001b[0m in \u001b[0;36m<module>\u001b[0;34m\u001b[0m\n\u001b[1;32m      1\u001b[0m \u001b[0mcalibrated_biases\u001b[0m \u001b[0;34m=\u001b[0m \u001b[0mfiles\u001b[0m\u001b[0;34m.\u001b[0m\u001b[0mfiles_filtered\u001b[0m\u001b[0;34m(\u001b[0m\u001b[0mimagetyp\u001b[0m\u001b[0;34m=\u001b[0m\u001b[0;34m'Bias Frame'\u001b[0m\u001b[0;34m,\u001b[0m \u001b[0minclude_path\u001b[0m\u001b[0;34m=\u001b[0m\u001b[0;32mTrue\u001b[0m\u001b[0;34m)\u001b[0m\u001b[0;34m\u001b[0m\u001b[0;34m\u001b[0m\u001b[0m\n\u001b[1;32m      2\u001b[0m \u001b[0;34m\u001b[0m\u001b[0m\n\u001b[0;32m----> 3\u001b[0;31m combined_bias = ccdp.combine(calibrated_biases,\n\u001b[0m\u001b[1;32m      4\u001b[0m                              \u001b[0mmethod\u001b[0m\u001b[0;34m=\u001b[0m\u001b[0;34m'median'\u001b[0m\u001b[0;34m,\u001b[0m\u001b[0;34m\u001b[0m\u001b[0;34m\u001b[0m\u001b[0m\n\u001b[1;32m      5\u001b[0m                              \u001b[0msigma_clip\u001b[0m\u001b[0;34m=\u001b[0m\u001b[0;32mTrue\u001b[0m\u001b[0;34m,\u001b[0m \u001b[0msigma_clip_low_thresh\u001b[0m\u001b[0;34m=\u001b[0m\u001b[0;36m5\u001b[0m\u001b[0;34m,\u001b[0m \u001b[0msigma_clip_high_thresh\u001b[0m\u001b[0;34m=\u001b[0m\u001b[0;36m5\u001b[0m\u001b[0;34m,\u001b[0m\u001b[0;34m\u001b[0m\u001b[0;34m\u001b[0m\u001b[0m\n",
      "\u001b[0;32m~/miniconda3/envs/py38/lib/python3.8/site-packages/ccdproc/combiner.py\u001b[0m in \u001b[0;36mcombine\u001b[0;34m(img_list, output_file, method, weights, scale, mem_limit, clip_extrema, nlow, nhigh, minmax_clip, minmax_clip_min, minmax_clip_max, sigma_clip, sigma_clip_low_thresh, sigma_clip_high_thresh, sigma_clip_func, sigma_clip_dev_func, dtype, combine_uncertainty_function, **ccdkwargs)\u001b[0m\n\u001b[1;32m    951\u001b[0m \u001b[0;34m\u001b[0m\u001b[0m\n\u001b[1;32m    952\u001b[0m             \u001b[0;31m# Create Combiner for tile\u001b[0m\u001b[0;34m\u001b[0m\u001b[0;34m\u001b[0m\u001b[0;34m\u001b[0m\u001b[0m\n\u001b[0;32m--> 953\u001b[0;31m             \u001b[0mtile_combiner\u001b[0m \u001b[0;34m=\u001b[0m \u001b[0mCombiner\u001b[0m\u001b[0;34m(\u001b[0m\u001b[0mccd_list\u001b[0m\u001b[0;34m,\u001b[0m \u001b[0mdtype\u001b[0m\u001b[0;34m=\u001b[0m\u001b[0mdtype\u001b[0m\u001b[0;34m)\u001b[0m\u001b[0;34m\u001b[0m\u001b[0;34m\u001b[0m\u001b[0m\n\u001b[0m\u001b[1;32m    954\u001b[0m \u001b[0;34m\u001b[0m\u001b[0m\n\u001b[1;32m    955\u001b[0m             \u001b[0;31m# Set all properties and call all methods\u001b[0m\u001b[0;34m\u001b[0m\u001b[0;34m\u001b[0m\u001b[0;34m\u001b[0m\u001b[0m\n",
      "\u001b[0;32m~/miniconda3/envs/py38/lib/python3.8/site-packages/ccdproc/combiner.py\u001b[0m in \u001b[0;36m__init__\u001b[0;34m(self, ccd_iter, dtype)\u001b[0m\n\u001b[1;32m    117\u001b[0m             \u001b[0;32melse\u001b[0m\u001b[0;34m:\u001b[0m\u001b[0;34m\u001b[0m\u001b[0;34m\u001b[0m\u001b[0m\n\u001b[1;32m    118\u001b[0m                 \u001b[0;32mif\u001b[0m \u001b[0;32mnot\u001b[0m \u001b[0;34m(\u001b[0m\u001b[0mdefault_shape\u001b[0m \u001b[0;34m==\u001b[0m \u001b[0mccd\u001b[0m\u001b[0;34m.\u001b[0m\u001b[0mshape\u001b[0m\u001b[0;34m)\u001b[0m\u001b[0;34m:\u001b[0m\u001b[0;34m\u001b[0m\u001b[0;34m\u001b[0m\u001b[0m\n\u001b[0;32m--> 119\u001b[0;31m                     \u001b[0;32mraise\u001b[0m \u001b[0mTypeError\u001b[0m\u001b[0;34m(\u001b[0m\u001b[0;34m\"CCDData objects are not the same size.\"\u001b[0m\u001b[0;34m)\u001b[0m\u001b[0;34m\u001b[0m\u001b[0;34m\u001b[0m\u001b[0m\n\u001b[0m\u001b[1;32m    120\u001b[0m \u001b[0;34m\u001b[0m\u001b[0m\n\u001b[1;32m    121\u001b[0m             \u001b[0;31m# raise an error if the units are different\u001b[0m\u001b[0;34m\u001b[0m\u001b[0;34m\u001b[0m\u001b[0;34m\u001b[0m\u001b[0m\n",
      "\u001b[0;31mTypeError\u001b[0m: CCDData objects are not the same size."
     ]
    }
   ],
   "source": [
    "calibrated_biases = files.files_filtered(imagetyp='Bias Frame', include_path=True)\n",
    "\n",
    "combined_bias = ccdp.combine(calibrated_biases,\n",
    "                             method='median',\n",
    "                             sigma_clip=True, sigma_clip_low_thresh=5, sigma_clip_high_thresh=5,\n",
    "                             sigma_clip_func=np.ma.median, sigma_clip_dev_func=mad_std, unit = \"adu\")\n",
    "\n",
    "combined_bias.meta['combined'] = True\n",
    "\n",
    "combined_bias.write(os.path.join(data_red / 'combined_bias.fit'), overwrite = True)"
   ]
  },
  {
   "cell_type": "code",
   "execution_count": null,
   "metadata": {},
   "outputs": [],
   "source": [
    "calibrated_darks = files.files_filtered(imagetyp='Dark Frame', include_path=True)\n",
    "reduced_darks= []\n",
    "exptime= []\n",
    "\n",
    "for frame in calibrated_darks:\n",
    "    image = ccdp.CCDData.read(frame, unit = 'adu')\n",
    "    exptime.append(image.header[\"exposure\"])\n",
    "    reduced_darks.append(ccdp.subtract_bias(image, combined_bias))\n",
    "    \n",
    "combined_darks = ccdp.combine(reduced_darks,\n",
    "                             method='median',\n",
    "                             sigma_clip=True, sigma_clip_low_thresh=5, sigma_clip_high_thresh=5,\n",
    "                             sigma_clip_func=np.ma.median, sigma_clip_dev_func=mad_std, unit = \"adu\", scale =1 / np.array(exptime))\n",
    "\n",
    "combined_darks.header[\"exposure\"] = 1\n",
    "combined_darks.header['exptime'] = 1\n",
    "\n",
    "combined_darks.meta['combined'] = True\n",
    "\n",
    "combined_darks.write(os.path.join(data_red / 'combined_darks.fit'), overwrite = True)"
   ]
  },
  {
   "cell_type": "code",
   "execution_count": null,
   "metadata": {
    "jupyter": {
     "source_hidden": true
    },
    "tags": []
   },
   "outputs": [],
   "source": [
    "import fpnfix\n",
    "import ccdproc\n",
    "import aperturePhot as ap\n",
    "\n",
    "\n",
    "os.chdir(path_day)\n",
    "combfpn = fpnfix.buildFPNFrame(files, redpath = \"./Reduced_Images\", darkim = \"combined_darks.fit\") #Note this assumes that the SO Darks were taken as 'Light Frame' \n",
    "                                       #with OBJECT='SODark' - use imagetyp and object keyword arguments \n",
    "                                       #to change this if needed\n",
    "                                       \n",
    "#Show the combined FPN frame build from 60 second SO Darks               \n",
    "ap.showimage(combfpn[60])"
   ]
  },
  {
   "cell_type": "code",
   "execution_count": null,
   "metadata": {},
   "outputs": [],
   "source": [
    "flat_imagetyp = 'Flat Field'\n",
    "\n",
    "flat_filters = set(h['filter'] for h in files.headers(imagetyp=flat_imagetyp))\n",
    "flat_filters"
   ]
  },
  {
   "cell_type": "code",
   "execution_count": 5,
   "metadata": {
    "tags": []
   },
   "outputs": [
    {
     "ename": "NameError",
     "evalue": "name 'flat_filters' is not defined",
     "output_type": "error",
     "traceback": [
      "\u001b[0;31m\u001b[0m",
      "\u001b[0;31mNameError\u001b[0mTraceback (most recent call last)",
      "\u001b[0;32m<ipython-input-5-317caf60b29b>\u001b[0m in \u001b[0;36m<module>\u001b[0;34m\u001b[0m\n\u001b[1;32m      3\u001b[0m \u001b[0mmaster_flats\u001b[0m \u001b[0;34m=\u001b[0m \u001b[0;34m{\u001b[0m\u001b[0;34m}\u001b[0m\u001b[0;34m\u001b[0m\u001b[0;34m\u001b[0m\u001b[0m\n\u001b[1;32m      4\u001b[0m \u001b[0;34m\u001b[0m\u001b[0m\n\u001b[0;32m----> 5\u001b[0;31m \u001b[0;32mfor\u001b[0m \u001b[0mfilt\u001b[0m \u001b[0;32min\u001b[0m \u001b[0mflat_filters\u001b[0m\u001b[0;34m:\u001b[0m\u001b[0;34m\u001b[0m\u001b[0;34m\u001b[0m\u001b[0m\n\u001b[0m\u001b[1;32m      6\u001b[0m     \u001b[0mreduced_flats\u001b[0m \u001b[0;34m=\u001b[0m \u001b[0;34m[\u001b[0m\u001b[0;34m]\u001b[0m\u001b[0;34m\u001b[0m\u001b[0;34m\u001b[0m\u001b[0m\n\u001b[1;32m      7\u001b[0m     \u001b[0mcalibrated_flats\u001b[0m \u001b[0;34m=\u001b[0m \u001b[0mfiles\u001b[0m\u001b[0;34m.\u001b[0m\u001b[0mfiles_filtered\u001b[0m\u001b[0;34m(\u001b[0m\u001b[0mimagetyp\u001b[0m \u001b[0;34m=\u001b[0m \u001b[0mflat_imagetyp\u001b[0m\u001b[0;34m,\u001b[0m \u001b[0mfilter\u001b[0m \u001b[0;34m=\u001b[0m \u001b[0mfilt\u001b[0m\u001b[0;34m,\u001b[0m \u001b[0minclude_path\u001b[0m\u001b[0;34m=\u001b[0m\u001b[0;32mTrue\u001b[0m\u001b[0;34m)\u001b[0m\u001b[0;34m\u001b[0m\u001b[0;34m\u001b[0m\u001b[0m\n",
      "\u001b[0;31mNameError\u001b[0m: name 'flat_filters' is not defined"
     ]
    }
   ],
   "source": [
    "scale = lambda a: 1/np.median(a)\n",
    "\n",
    "master_flats = {}\n",
    "\n",
    "for filt in flat_filters:\n",
    "    reduced_flats = []\n",
    "    calibrated_flats = files.files_filtered(imagetyp = flat_imagetyp, filter = filt, include_path=True)\n",
    "    \n",
    "    for flat in calibrated_flats:\n",
    "        image = ccdp.CCDData.read(flat, unit = \"adu\")\n",
    "        image = ccdp.subtract_bias(image, combined_bias)\n",
    "        image = ccdp.subtract_dark(image, combined_darks, scale=True, exposure_unit=u.s, exposure_time = \"exptime\")\n",
    "        #image = fpnfix.subtract_fpn(image,combfpn[60],mesh_size=32, verbose = 2)\n",
    "        reduced_flats.append(image)\n",
    "    \n",
    "    combined_flats = ccdp.combine(reduced_flats,\n",
    "                                 method='median',\n",
    "                                 sigma_clip=True, sigma_clip_low_thresh=5, sigma_clip_high_thresh=5,\n",
    "                                 sigma_clip_func=np.ma.median, signma_clip_dev_func=mad_std, unit = \"adu\", scale = scale\n",
    "                                )\n",
    "\n",
    "    master_flats[filt]=combined_flats.copy()\n",
    "\n",
    "    combined_flats.write(data_red / (filt.replace(\"\",\"_\")+\"_combined_flats.fit\"), overwrite = True)"
   ]
  },
  {
   "cell_type": "code",
   "execution_count": null,
   "metadata": {},
   "outputs": [],
   "source": [
    "show_image(combined_bias)"
   ]
  },
  {
   "cell_type": "code",
   "execution_count": null,
   "metadata": {},
   "outputs": [],
   "source": [
    "show_image(combined_darks)"
   ]
  },
  {
   "cell_type": "code",
   "execution_count": null,
   "metadata": {},
   "outputs": [],
   "source": [
    "for filt,image in master_flats.items():\n",
    "    show_image(image)"
   ]
  },
  {
   "cell_type": "code",
   "execution_count": null,
   "metadata": {},
   "outputs": [],
   "source": [
    "import ccdproc\n",
    "images = files.files_filtered(imagetyp=\"Light Frame\", include_path = True)\n",
    "\n",
    "for image in images:\n",
    "    var = ccdp.CCDData.read(image, unit = \"adu\")\n",
    "    var_filt = var.header[\"filter\"]\n",
    "    \n",
    "    corr_filt = master_flats[var_filt]\n",
    "    \n",
    "    var = ccdproc.ccd_process(var,\n",
    "                             master_bias = combined_bias, dark_frame = combined_darks,\n",
    "                             master_flat = corr_filt, exposure_key=\"exposure\", exposure_unit = u.second,\n",
    "                             dark_scale = True)\n",
    "    proc_data = os.path.basename(image)\n",
    "    var.write(data_red / (\"BDF_\"+proc_data), overwrite = True)"
   ]
  },
  {
   "cell_type": "code",
   "execution_count": null,
   "metadata": {},
   "outputs": [],
   "source": []
  },
  {
   "cell_type": "code",
   "execution_count": null,
   "metadata": {},
   "outputs": [],
   "source": [
    "import plateSolve\n",
    "pathlist = Path(data_red).glob('**/*V.fit')\n",
    "\n",
    "for path in pathlist:\n",
    "    Vimage = ccdp.CCDData.read(path, unit=\"adu\")\n",
    "    show_image(Vimage)\n",
    "    \n",
    "    check = plateSolve.autoSolve(path,Vimage)\n",
    "    print(\"Check should be true if autoSolve worked correctly.\")\n",
    "    print(path,check)\n",
    "    print(check)"
   ]
  },
  {
   "cell_type": "code",
   "execution_count": null,
   "metadata": {
    "tags": []
   },
   "outputs": [],
   "source": [
    "import plateSolve\n",
    "pathlist = Path(data_red).glob('**/*V.fit')\n",
    "\n",
    "for path in pathlist:\n",
    "    Vimage = ccdp.CCDData.read(path, unit=\"adu\")\n",
    "    show_image(Vimage)\n",
    "    \n",
    "    check = plateSolve.autoSolve(path,Vimage)\n",
    "    print(\"Check should be true if autoSolve worked correctly.\")\n",
    "    print(path,check)\n",
    "    print(check)"
   ]
  },
  {
   "cell_type": "code",
   "execution_count": null,
   "metadata": {},
   "outputs": [],
   "source": [
    "import plateSolve\n",
    "pathlist = Path(data_red).glob('**/*V.fit')\n",
    "\n",
    "for path in pathlist:\n",
    "    Vimage = ccdp.CCDData.read(path, unit=\"adu\")\n",
    "    show_image(Vimage)\n",
    "    \n",
    "    check = plateSolve.autoSolve(path,Vimage)\n",
    "    print(\"Check should be true if autoSolve worked correctly.\")\n",
    "    print(path,check)\n",
    "    print(check)"
   ]
  },
  {
   "cell_type": "code",
   "execution_count": null,
   "metadata": {},
   "outputs": [],
   "source": [
    "import plateSolve\n",
    "\n",
    "check = plateSolve.autoSolve(R,Rimage)\n",
    "print(\"Check should be true if autoSolve worked correctly.\")\n",
    "print(R,check)\n",
    "print(check)"
   ]
  },
  {
   "cell_type": "code",
   "execution_count": null,
   "metadata": {},
   "outputs": [],
   "source": [
    "checkV = plateSolve.autoSolve(V,Vimage)\n",
    "print(\"Check should be true if autoSolve worked correctly.\")\n",
    "print(V,checkV)\n",
    "print(checkV)"
   ]
  },
  {
   "cell_type": "code",
   "execution_count": null,
   "metadata": {},
   "outputs": [],
   "source": [
    "plateSolve.manualSolvePlot(V,Vimage)"
   ]
  },
  {
   "cell_type": "code",
   "execution_count": null,
   "metadata": {},
   "outputs": [],
   "source": [
    "gaia_list = [0,1, 3, 9, 12,17,22,24,54]\n",
    "image_list = [0,1,4,5,8, 11, 13, 15,16]\n",
    "\n",
    "check = plateSolve.manualSolve(V,Vimage,gaia_list,image_list)\n",
    "print(\"Check is True if successful\")\n",
    "print(V,check)"
   ]
  },
  {
   "cell_type": "code",
   "execution_count": null,
   "metadata": {},
   "outputs": [],
   "source": []
  }
 ],
 "metadata": {
  "kernelspec": {
   "display_name": "Python 3.8 (py38)",
   "language": "python",
   "name": "py38"
  },
  "language_info": {
   "codemirror_mode": {
    "name": "ipython",
    "version": 3
   },
   "file_extension": ".py",
   "mimetype": "text/x-python",
   "name": "python",
   "nbconvert_exporter": "python",
   "pygments_lexer": "ipython3",
   "version": "3.8.5"
  }
 },
 "nbformat": 4,
 "nbformat_minor": 4
}
